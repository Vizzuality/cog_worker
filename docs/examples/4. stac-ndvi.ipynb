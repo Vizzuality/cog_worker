{
 "cells": [
  {
   "cell_type": "markdown",
   "metadata": {},
   "source": [
    "# Compute Sentinel-2 NDVI with Stac and Dask"
   ]
  },
  {
   "cell_type": "markdown",
   "metadata": {},
   "source": [
    "## 1. Install dependencies\n",
    "\n",
    "We'll use `stacsearch` to search for sentinel scenes in the AWS stac catalog."
   ]
  },
  {
   "cell_type": "markdown",
   "metadata": {},
   "source": [
    "## 2. Define the NDVI function\n"
   ]
  },
  {
   "cell_type": "code",
   "execution_count": 1,
   "metadata": {
    "execution": {
     "iopub.execute_input": "2023-07-14T03:15:30.638030Z",
     "iopub.status.busy": "2023-07-14T03:15:30.637870Z",
     "iopub.status.idle": "2023-07-14T03:15:30.675909Z",
     "shell.execute_reply": "2023-07-14T03:15:30.675653Z"
    }
   },
   "outputs": [],
   "source": [
    "import satsearch\n",
    "\n",
    "def s2ndvi(worker):\n",
    "    search = satsearch.Search('https://earth-search.aws.element84.com/v0')\n",
    "\n",
    "    # TODO"
   ]
  },
  {
   "cell_type": "markdown",
   "metadata": {},
   "source": [
    "## 3. Preview the analysis"
   ]
  },
  {
   "cell_type": "markdown",
   "metadata": {},
   "source": [
    "## 4. Execute the analysis in a Dask cluster"
   ]
  }
 ],
 "metadata": {
  "language_info": {
   "codemirror_mode": {
    "name": "ipython",
    "version": 3
   },
   "file_extension": ".py",
   "mimetype": "text/x-python",
   "name": "python",
   "nbconvert_exporter": "python",
   "pygments_lexer": "ipython3",
   "version": "3.11.4"
  }
 },
 "nbformat": 4,
 "nbformat_minor": 2
}
